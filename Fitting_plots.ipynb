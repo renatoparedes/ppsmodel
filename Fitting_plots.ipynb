{
 "cells": [
  {
   "cell_type": "code",
   "execution_count": 3,
   "metadata": {},
   "outputs": [],
   "source": [
    "import pylab\n",
    "import numpy as np\n",
    "import matplotlib.pyplot as plt\n",
    "import matplotlib as mpl\n",
    "import pandas as pd\n",
    "from scipy.spatial import distance\n",
    "from scipy.optimize import curve_fit\n",
    "from scipy.optimize import minimize\n",
    "from scipy.optimize import basinhopping, differential_evolution\n",
    "from mpl_toolkits.axes_grid1 import make_axes_locatable\n",
    "from scipy import stats\n",
    "import string"
   ]
  },
  {
   "cell_type": "code",
   "execution_count": 4,
   "metadata": {},
   "outputs": [],
   "source": [
    "## Model structure\n",
    "Mt = 40\n",
    "Nt = 20\n",
    "\n",
    "Ma = 20\n",
    "Na = 3\n",
    "\n",
    "## Model parameters\n",
    "\n",
    "# Unisensory receptive fields\n",
    "phit_0 = 1\n",
    "sigmat_phi = 0.5\n",
    "phia_0 = 1\n",
    "sigmaa_phi = 10\n",
    "\n",
    "# External stimuli\n",
    "it_0 = 2.5\n",
    "sigmat_i = 0.3\n",
    "sigmat_v = 0.1\n",
    "xt_0 = 10 \n",
    "yt_0 = 5\n",
    "\n",
    "ia_0 = 3.6\n",
    "sigmaa_i = 0.3\n",
    "sigmaa_v = 0.4\n",
    "ya_0 = 5\n",
    "xa_0 = 100\n",
    "\n",
    "tt_0 = 0\n",
    "ta_0 = 0"
   ]
  },
  {
   "cell_type": "code",
   "execution_count": 5,
   "metadata": {},
   "outputs": [],
   "source": [
    "## Receptive fields\n",
    "\n",
    "# Tactile RF centres\n",
    "xt = np.arange(1,Mt+1)*0.5 \n",
    "yt = np.arange(1,Nt+1)*0.5\n",
    "\n",
    "# Auditory RF centres\n",
    "xa = (np.arange(1,Ma+1)*10)-5\n",
    "ya = (np.arange(1,Na+1)*10)-15\n",
    "              \n",
    "def phit(x,y):\n",
    "    phi = np.zeros((Mt,Nt))\n",
    "    for i in range(Mt):\n",
    "        for j in range(Nt):\n",
    "            phi[i][j] = phit_0*np.exp(-((np.square(xt[i]-x)+np.square(yt[j]-y))/(2*np.square(sigmat_phi))))\n",
    "    return phi\n",
    "\n",
    "def phia(x,y):\n",
    "    phi = np.zeros((Ma,Na))\n",
    "    for i in range(Ma):\n",
    "        for j in range(Na):\n",
    "            phi[i][j] = phia_0*np.exp(-((np.square(xa[i]-x)+np.square(ya[j]-y))/(2*np.square(sigmaa_phi))))\n",
    "    return phi\n",
    "\n",
    "# Calculation\n",
    "dif = 0.2\n",
    "xt_i = np.arange(0,20+dif,dif)\n",
    "yt_n = np.arange(0,10+dif,dif)\n",
    "\n",
    "phi_t = np.zeros((Mt,Nt,len(xt_i),len(yt_n)))        \n",
    "for k in range(len(xt_i)):\n",
    "    for l in range(len(yt_n)):\n",
    "        phi_t[:,:,k,l] = phit(xt_i[k],yt_n[l])\n",
    "        \n",
    "xa_i = np.arange(0,200+dif,dif)\n",
    "ya_n = np.arange(0,30+dif,dif)\n",
    "\n",
    "phi_a = np.zeros((Ma,Na,len(xa_i),len(ya_n)))        \n",
    "for k in range(len(xa_i)):\n",
    "    for l in range(len(ya_n)):\n",
    "        phi_a[:,:,k,l] = phia(xa_i[k],ya_n[l])\n",
    "        \n",
    "\n",
    "## External stimulus\n",
    "def stimt(x,y,t):\n",
    "    if t<tt_0: \n",
    "        I = 0\n",
    "    else: \n",
    "        #v = np.random.normal(0, sigmat_v)\n",
    "        #I = (it_0+sigmat_v*v)*np.exp(- (np.square(xt_0-x)+np.square(yt_0-y))/(2*np.square(sigmat_i)))\n",
    "        I = (it_0)*np.exp(- (np.square(xt_0-x)+np.square(yt_0-y))/(2*np.square(sigmat_i)))\n",
    "    return I \n",
    "\n",
    "def stima(x,y,t,xa_0):\n",
    "    if t<ta_0: \n",
    "        I = 0\n",
    "    else: \n",
    "        #v = np.random.normal(0, sigmaa_v)\n",
    "        #I = (ia_0+sigmaa_v*v)*np.exp(- (np.square(xa_0-x)+np.square(ya_0-y))/(2*np.square(sigmaa_i)))\n",
    "        I = (ia_0)*np.exp(- (np.square(xa_0-x)+np.square(ya_0-y))/(2*np.square(sigmaa_i)))\n",
    "    return I \n",
    "\n",
    "## Unisensory input\n",
    "def PHIt(t):\n",
    "\n",
    "        PHI = np.zeros((Mt,Nt,len(xt_i),len(yt_n)))        \n",
    "        \n",
    "        for k in range(len(xt_i)):\n",
    "            for l in range(len(yt_n)):\n",
    "                PHI[:,:,k,l] = np.multiply(phi_t[:,:,k,l],stimt(xt_i[k],yt_n[l],t))\n",
    "        PHI = np.sum(PHI,axis=3)\n",
    "        PHI = np.sum(PHI,axis=2)\n",
    "        \n",
    "        return PHI\n",
    "    \n",
    "def PHIa(t,xa_0):\n",
    "\n",
    "        PHI = np.zeros((Ma,Na,len(xa_i),len(ya_n)))        \n",
    "        \n",
    "        for k in range(len(xa_i)):\n",
    "            for l in range(len(ya_n)):\n",
    "                PHI[:,:,k,l] = np.multiply(phi_a[:,:,k,l],stima(xa_i[k],ya_n[l],t,xa_0))\n",
    "        PHI = np.sum(PHI,axis=3)\n",
    "        PHI = np.sum(PHI,axis=2)\n",
    "        \n",
    "        return PHI"
   ]
  },
  {
   "cell_type": "code",
   "execution_count": 6,
   "metadata": {},
   "outputs": [],
   "source": [
    "## Lateral connections in unisensory areas\n",
    "\n",
    "def Lw(Lt_ex,Lt_in,sigmat_ex,sigmat_in,La_ex,La_in,sigmaa_ex,sigmaa_in):\n",
    "    # Tactile Connections\n",
    "    Lt = np.zeros((Mt*Nt,Mt*Nt))\n",
    "\n",
    "    for i in range(Mt*Nt):\n",
    "        for j in range(Mt*Nt):\n",
    "            if i==j: \n",
    "                Lt[i,j] = 0\n",
    "            else:\n",
    "                Dtx = xt[np.floor_divide(i,Nt)] - xt[np.floor_divide(j,Nt)]\n",
    "                Dty = yt[np.remainder(i,Nt)] - yt[np.remainder(j,Nt)]\n",
    "                Lt[i,j] = Lt_ex*np.exp(- (np.square(Dtx)+np.square(Dty))/(2*np.square(sigmat_ex)))-Lt_in*np.exp(- (np.square(Dtx)+np.square(Dty))/(2*np.square(sigmat_in)))\n",
    "\n",
    "    # Auditory Connections\n",
    "    La = np.zeros((Ma*Na,Ma*Na))\n",
    "\n",
    "    for i in range(Ma*Na):\n",
    "        for j in range(Ma*Na):\n",
    "            if i==j: \n",
    "                La[i,j] = 0\n",
    "            else:\n",
    "                Dax = xa[np.floor_divide(i,Na)] - xa[np.floor_divide(j,Na)]\n",
    "                Day = ya[np.remainder(i,Na)] - ya[np.remainder(j,Na)] #before was remainder-1\n",
    "                La[i,j] = La_ex*np.exp(- (np.square(Dax)+np.square(Day))/(2*np.square(sigmaa_ex)))-La_in*np.exp(- (np.square(Dax)+np.square(Day))/(2*np.square(sigmaa_in)))\n",
    "    return Lt,La            \n",
    "                \n",
    "# Lateral inputs\n",
    "def LIt(z):\n",
    "    # z is a matrix of MtxNt dimensions\n",
    "    LI = np.zeros(Mt*Nt)\n",
    "    z = np.reshape(z,(1,Mt*Nt))\n",
    "    for i in range(Mt*Nt):\n",
    "            LI[i] = np.sum(np.multiply(Lt[i,:],z[0,:])) \n",
    "    LI = np.reshape(LI,(Mt,Nt))\n",
    "    return LI\n",
    "\n",
    "def LIa(z):\n",
    "    # z is a matrix of MtxNt dimensions\n",
    "    LI = np.zeros(Ma*Na)\n",
    "    z = np.reshape(z,(1,Ma*Na))\n",
    "    for i in range(Ma*Na):\n",
    "            LI[i] = np.sum(np.multiply(La[i,:],z[0,:])) \n",
    "    LI = np.reshape(LI,(Ma,Na))\n",
    "    return LI"
   ]
  },
  {
   "cell_type": "code",
   "execution_count": 7,
   "metadata": {},
   "outputs": [],
   "source": [
    "## Feedforward and feedback synapses\n",
    "\n",
    "def Fw (Wt_0,Wa_0,Bt_0,Ba_0):\n",
    "    k1 = 15.41902756 #10 #cm\n",
    "    k2 = 813.75069556 #cm\n",
    "    alpha = 0.9 #0.9\n",
    "\n",
    "    # Tactile connections\n",
    "    Bt = np.ones((Mt,Nt))*Bt_0\n",
    "    Wt = np.ones((Mt,Nt))*Wt_0\n",
    "\n",
    "    # Auditory connections\n",
    "    Ba = np.zeros((Ma,Na))\n",
    "    Wa = np.zeros((Ma,Na))\n",
    "\n",
    "    lim = 66.0879161 # originally 60\n",
    "\n",
    "    for i in range(Ma):\n",
    "        for j in range(Na):\n",
    "            if (xa[i]<lim) & (ya[j]<20):\n",
    "                D = 0\n",
    "            else: \n",
    "                D = distance.euclidean((xa[i],ya[j]),(lim,ya[j]))              \n",
    "            Ba[i,j] = alpha*Ba_0*np.exp(- D/k1)+(1-alpha)*Ba_0*np.exp(- D/k2)\n",
    "            Wa[i,j] = alpha*Wa_0*np.exp(- D/k1)+(1-alpha)*Wa_0*np.exp(- D/k2)\n",
    "    return Wt,Wa,Bt,Ba\n",
    "\n",
    "# Feedback inputs\n",
    "def bt(z):\n",
    "    #bt = np.zeros(Mt,Nt)\n",
    "    bt = np.multiply(Bt,z)\n",
    "    return bt\n",
    "\n",
    "def ba(z,Ba):\n",
    "    #bt = np.zeros(Mt,Nt)\n",
    "    ba = np.multiply(Ba,z)\n",
    "    return ba\n"
   ]
  },
  {
   "cell_type": "code",
   "execution_count": 8,
   "metadata": {},
   "outputs": [],
   "source": [
    "## Neuron activity in unisensory areas\n",
    "ft_min = -0.12\n",
    "ft_max = 1\n",
    "qt_c = 19.43\n",
    "rt = 0.34\n",
    "\n",
    "fa_min = -0.12\n",
    "fa_max = 1\n",
    "qa_c = 19.43\n",
    "ra = 0.34\n",
    "\n",
    "tau = 20\n",
    "\n",
    "def psit(qt,b):\n",
    "    y = qt\n",
    "    for i in range(Mt):\n",
    "        for j in range(Nt):\n",
    "            y[i,j] = (ft_min+ft_max*np.exp((qt[i,j]-qt_c)*rt+b))/(1+np.exp((qt[i,j]-qt_c)*rt+b))\n",
    "    return y\n",
    "\n",
    "def psia(qa,b):\n",
    "    y = qa\n",
    "    for i in range(Ma):\n",
    "        for j in range(Na):\n",
    "            y[i,j] = (fa_min+fa_max*np.exp((qa[i,j]-qa_c)*ra+b))/(1+np.exp((qa[i,j]-qa_c)*ra+b))\n",
    "    return y\n",
    "\n",
    "## Multisensory neuron activity\n",
    "fm_min = 0\n",
    "fm_max = 1\n",
    "qm_c = 12\n",
    "rm = 0.6\n",
    "\n",
    "def psim(qm):\n",
    "    y = (fm_min+fm_max*np.exp((qm-qm_c)*rm))/(1+np.exp((qm-qm_c)*rm))\n",
    "    return y\n",
    "\n",
    "## Evolutionary prunning mechanism\n",
    "def prun(WM,pr):\n",
    "    newM = np.copy(WM)\n",
    "    newM[newM < pr] = 0\n",
    "    return newM"
   ]
  },
  {
   "cell_type": "code",
   "execution_count": 9,
   "metadata": {},
   "outputs": [],
   "source": [
    "## Experiment function - Canzonieri 2012 experiment\n",
    "\n",
    "def experimentrun(a_distances,time,b,pr):\n",
    "    dt = 0.4\n",
    "    timesteps = int(time/dt)\n",
    "    ndist = len(a_distances)\n",
    "    \n",
    "    RTs = np.zeros(ndist)\n",
    "    ti = PHIt(0) \n",
    "    PrBa = prun(Ba,pr)\n",
    "    PrWa = prun(Wa,pr*2.6)\n",
    "    dtau = dt/tau\n",
    "    \n",
    "    qt = np.zeros((Mt,Nt,timesteps+1,ndist))\n",
    "    ut = np.zeros((Mt,Nt,timesteps+1,ndist))\n",
    "    zt = np.zeros((Mt,Nt,timesteps+1,ndist))\n",
    "    pt = np.zeros((Mt,Nt,timesteps+1,ndist))\n",
    "\n",
    "    qa = np.zeros((Ma,Na,timesteps+1,ndist))\n",
    "    ua = np.zeros((Ma,Na,timesteps+1,ndist))\n",
    "    za = np.zeros((Ma,Na,timesteps+1,ndist))\n",
    "    pa = np.zeros((Ma,Na,timesteps+1,ndist))\n",
    "\n",
    "    qm = np.zeros((timesteps+1,ndist))\n",
    "    um = np.zeros((timesteps+1,ndist))\n",
    "    zm = np.zeros((timesteps+1,ndist))\n",
    "    pm = np.zeros((timesteps+1,ndist))\n",
    "    \n",
    "    ZT = np.zeros((1,timesteps+1,ndist))\n",
    "    \n",
    "    for d in range(ndist):\n",
    "        xa_0 = a_distances[d]     \n",
    "        ai = PHIa(0,xa_0)\n",
    "\n",
    "        for i in range(timesteps):    \n",
    "            # Tactile activity\n",
    "            ut[:,:,i+1,d] = ti+LIt(zt[:,:,i,d])+bt(zm[i,d])\n",
    "            qt[:,:,i+1,d] = qt[:,:,i,d] + dtau*(-qt[:,:,i,d]+ut[:,:,i,d])\n",
    "            pt[:,:,i+1,d] = psit(qt[:,:,i,d],b)\n",
    "            zt[:,:,i+1,d] = pt[:,:,i,d]*np.heaviside(pt[:,:,i,d],0)\n",
    "\n",
    "            ZT[0,i+1,d] = np.sum(zt[:,:,i,d])\n",
    "\n",
    "            # Auditory activity\n",
    "            ua[:,:,i+1,d] = ai+LIa(za[:,:,i,d])+ba(zm[i,d],PrBa) \n",
    "            qa[:,:,i+1,d] = qa[:,:,i,d] + dtau*(-qa[:,:,i,d]+ua[:,:,i,d])\n",
    "            pa[:,:,i+1,d] = psia(qa[:,:,i,d],b)\n",
    "            za[:,:,i+1,d] = pa[:,:,i,d]*np.heaviside(pa[:,:,i,d],0)\n",
    "\n",
    "            # Multisensory activity\n",
    "            um[i+1,d] = np.sum(np.multiply(Wt,zt[:,:,i,d])) + np.sum(np.multiply(PrWa,za[:,:,i,d]))\n",
    "            qm[i+1,d] = qm[i,d] + dtau*(-qm[i,d]+um[i,d])\n",
    "            pm[i+1,d] = psim(qm[i,d])\n",
    "            zm[i+1,d] = pm[i,d]*np.heaviside(pm[i,d],0)    \n",
    "\n",
    "        RT = dt*(np.abs(ZT[:,:,d] - ZT[0,timesteps,d]*0.9)).argmin()\n",
    "        RTs[d] = RT\n",
    "    return RTs\n",
    "\n",
    "## Sigmoid function to fit\n",
    "def RTsig(d,etamin,etamax,dc,h):\n",
    "    return (etamin+etamax*np.exp((d-dc)/h))/(1+np.exp((d-dc)/h))\n",
    "\n",
    "## Sigmoid function fitting\n",
    "def sigfit(RTs,a_distances):\n",
    "    t1 = np.linspace(38, 112, 100) # These boundaries may change if the velocity is different from 30 cm/s\n",
    "    popt, pcov = curve_fit(RTsig, a_distances, RTs,bounds=([0,0,38,0],[100,200,112,100])) # Same as above. Beware of boundaries.\n",
    "    sigpar = np.asarray(popt)\n",
    "\n",
    "    etamin = sigpar[0] \n",
    "    etamax = sigpar[1]\n",
    "    dc = sigpar[2]\n",
    "    h = sigpar[3]\n",
    "    return etamin,etamax,dc,h"
   ]
  },
  {
   "cell_type": "code",
   "execution_count": null,
   "metadata": {},
   "outputs": [],
   "source": [
    "HCdata = pd.read_excel (r'C:\\\\Users\\\\renat\\Dissertation\\PPS_data_SCZ_SPQ.xlsx',sheet_name='HC') #for an earlier version of Excel, you may need to use the file extension of 'xls'\n",
    "SCZdata = pd.read_excel (r'C:\\\\Users\\\\renat\\Dissertation\\PPS_data_SCZ_SPQ.xlsx',sheet_name='SCZ') #for an earlier version of Excel, you may need to use the file extension of 'xls'\n",
    "SPQdata = pd.read_excel (r'C:\\\\Users\\\\renat\\Dissertation\\PPS_data_SCZ_SPQ.xlsx',sheet_name='high spq') #for an earlier version of Excel, you may need to use the file extension of 'xls'\n",
    "LSPQdata = pd.read_excel (r'C:\\\\Users\\\\renat\\Dissertation\\PPS_data_SCZ_SPQ.xlsx',sheet_name='low spq') #for an earlier version of Excel, you may need to use the file extension of 'xls'\n",
    "\n",
    "sets = [HCdata,SCZdata,SPQdata,LSPQdata]\n",
    "RTdata = []\n",
    "\n",
    "for i in sets:\n",
    "    subjects = i['Subject'].unique()\n",
    "    delays = i[(i['Sound']=='Loom')&(i['Cond'] != 'Loom_NO')]['Cond'].unique()\n",
    "    delays = np.delete(delays,np.where(delays=='Loom_-700')[0])\n",
    "    idx = [3,4,0,1,2]\n",
    "    delays = delays[idx]\n",
    "    RTs = []\n",
    "    \n",
    "    for s in subjects:\n",
    "        meanRTs = []\n",
    "        for t in delays:\n",
    "            RT = i[(i['Subject'] == s)&(i['Cond'] == t)]['Rtpul']           \n",
    "            meanRTs.append(np.mean(RT))\n",
    "        RTs.append(meanRTs)\n",
    "    RTdata.append(RTs)\n",
    "    \n",
    "HC_RT = np.asarray(RTdata[0])\n",
    "SCZ_RT = np.asarray(RTdata[1])\n",
    "SPQ_RT = np.asarray(RTdata[2])\n",
    "LSPQ_RT = np.asarray(RTdata[3])\n"
   ]
  },
  {
   "cell_type": "code",
   "execution_count": 11,
   "metadata": {},
   "outputs": [],
   "source": [
    "## Experiments setup. \n",
    "\n",
    "# Calculate distance in cms. Speaker is positioned at 100cm from the hand. \n",
    "times = np.asarray([300,800,1500,2200,2700])\n",
    "timesweep = np.arange(300,2800,100)\n",
    "ts = timesweep/1000\n",
    "v = 30 #22 cm/s / 28 gives good fit as well\n",
    "\n",
    "# Initial setup\n",
    "trials = 1 #18 in behavioural study\n",
    "a_distances = (120 - ts*v) # distance points in cm (network coordinates)\n",
    "simtime = 200 #ms # 0.1 in behavioural study? \n",
    "# Synapses\n",
    "Lt,La = Lw(0.15,0.05,1,4,0.15,0.05,20,80)\n",
    "Wt,Wa,Bt,Ba = Fw(6.5,6.5,2.5,2.5) "
   ]
  },
  {
   "cell_type": "code",
   "execution_count": 30,
   "metadata": {},
   "outputs": [],
   "source": [
    "## Experiment run\n",
    "bi = 0.62904397\n",
    "prlevel = 0.23709415\n",
    "\n",
    "#x: array([2.86743028, 0.08121124])\n",
    "HC_RTs = experimentrun(a_distances,simtime,bi,prlevel)"
   ]
  },
  {
   "cell_type": "code",
   "execution_count": 32,
   "metadata": {},
   "outputs": [
    {
     "name": "stdout",
     "output_type": "stream",
     "text": [
      "Central Point:68.77323000788537cm 1040.8923330704877ms\n",
      "Slope:0.10992957675463\n",
      "5.168811752524355 -73.54460144222476\n"
     ]
    },
    {
     "data": {
      "image/png": "[encoded data removed]",
      "text/plain": [
       "<Figure size 432x288 with 1 Axes>"
      ]
     },
     "metadata": {
      "needs_background": "light"
     },
     "output_type": "display_data"
    }
   ],
   "source": [
    "# HC RT fitting\n",
    "\n",
    "idx = [0,5,12,19,24]\n",
    "xf = np.take(HC_RTs,idx)\n",
    "yf = np.mean(HC_RT,axis=0)\n",
    "etamin,etamax,dc,h = sigfit(HC_RTs,a_distances)\n",
    "\n",
    "m = (xf.size * np.sum(xf*yf) - np.sum(xf) * np.sum(yf)) / (xf.size*np.sum(xf*xf) - np.sum(xf) ** 2)\n",
    "bias = (np.sum(yf) - m*np.sum(xf)) / xf.size\n",
    "\n",
    "#plt.figure(1)\n",
    "#plt.scatter(RTs[0],np.mean(HC_RT,axis=0)) \n",
    "\n",
    "plt.figure(2)\n",
    "times1 = np.linspace(300, 2700, 100)\n",
    "t1 = np.linspace(38, 112, 100)\n",
    "plt.scatter(times,np.mean(HC_RT,axis=0),color='black',label='HC data') #15\n",
    "plt.plot(np.flip(times1),m*RTsig(t1,etamin,etamax,dc,h)+bias,color='black',label='Model')\n",
    "plt.xlabel('Delay (ms)',size=12)\n",
    "plt.ylabel('Average RT (ms)',size=12)\n",
    "plt.legend()\n",
    "\n",
    "print(\"Central Point:\"+str(np.mean(dc)-20)+\"cm\",str(((120-np.mean(dc))/v)*1000)+\"ms\")\n",
    "print(\"Slope:\"+str(1/np.mean(h)))\n",
    "print(m,bias)"
   ]
  },
  {
   "cell_type": "code",
   "execution_count": 13,
   "metadata": {},
   "outputs": [],
   "source": [
    "## Experiment run\n",
    "bi = 4.49317781\n",
    "prlevel = 1.94636878\n",
    "SCZ_RTs = experimentrun(a_distances,simtime,bi,prlevel)\n"
   ]
  },
  {
   "cell_type": "code",
   "execution_count": 23,
   "metadata": {},
   "outputs": [
    {
     "name": "stdout",
     "output_type": "stream",
     "text": [
      "Central Point:53.31360196699582cm 1556.2132677668062ms\n",
      "Slope:0.173873012604015\n",
      "14.134517692865165 -252.57930683691546\n"
     ]
    },
    {
     "data": {
      "image/png": "[encoded data removed]",
      "text/plain": [
       "<Figure size 432x288 with 1 Axes>"
      ]
     },
     "metadata": {
      "needs_background": "light"
     },
     "output_type": "display_data"
    }
   ],
   "source": [
    "# SCZ RT fitting\n",
    "\n",
    "idx = [0,5,12,19,24]\n",
    "xf = np.take(SCZ_RTs,idx)\n",
    "yf = np.mean(SCZ_RT,axis=0)\n",
    "sczetamin,sczetamax,sczdc,sczh = sigfit(SCZ_RTs,a_distances)\n",
    "\n",
    "sczm = (xf.size * np.sum(xf*yf) - np.sum(xf) * np.sum(yf)) / (xf.size*np.sum(xf*xf) - np.sum(xf) ** 2)\n",
    "sczbias = (np.sum(yf) - sczm*np.sum(xf)) / xf.size\n",
    "\n",
    "plt.figure(2)\n",
    "times1 = np.linspace(300, 2700, 100)\n",
    "t1 = np.linspace(38, 112, 100)\n",
    "plt.scatter(times,np.mean(SCZ_RT,axis=0),color='red',label='SCZ data') #15\n",
    "plt.plot(np.flip(times1),sczm*RTsig(t1,sczetamin,sczetamax,sczdc,sczh)+sczbias,color='red',label='SCZ model')\n",
    "plt.xlabel('Delay (ms)',size=14)\n",
    "plt.ylabel('Average RT (ms)',size=14)\n",
    "plt.ylim(350,450)\n",
    "plt.legend(fontsize = 'large')\n",
    "plt.savefig('Results/scznetworkmodel.png', bbox_inches='tight')\n",
    "\n",
    "print(\"Central Point:\"+str(np.mean(sczdc)-20)+\"cm\",str(((120-np.mean(sczdc))/v)*1000)+\"ms\")\n",
    "print(\"Slope:\"+str(1/np.mean(sczh)))\n",
    "\n",
    "print(sczm,sczbias)"
   ]
  },
  {
   "cell_type": "code",
   "execution_count": 24,
   "metadata": {},
   "outputs": [],
   "source": [
    "# SPQ RT fitting\n",
    "\n",
    "## Experiment run  \n",
    "bi = 4.30153794\n",
    "prlevel = 0.14795582\n",
    "\n",
    "SPQ_RTs = experimentrun(a_distances,simtime,bi,prlevel)"
   ]
  },
  {
   "cell_type": "code",
   "execution_count": 28,
   "metadata": {},
   "outputs": [
    {
     "name": "stdout",
     "output_type": "stream",
     "text": [
      "Central Point:62.12685623653218cm 1262.4381254489274ms\n",
      "Slope:0.09756136865965953\n",
      "14.732288609548426 -455.318746424054\n"
     ]
    },
    {
     "data": {
      "image/png": "[encoded data removed]",
      "text/plain": [
       "<Figure size 432x288 with 1 Axes>"
      ]
     },
     "metadata": {
      "needs_background": "light"
     },
     "output_type": "display_data"
    }
   ],
   "source": [
    "## SPQ fitting\n",
    "idx = [0,5,12,19,24]\n",
    "xf = np.take(SPQ_RTs,idx)\n",
    "yf = np.mean(SPQ_RT,axis=0)\n",
    "spqetamin,spqetamax,spqdc,spqh = sigfit(SPQ_RTs,a_distances)\n",
    "\n",
    "spqm = (xf.size * np.sum(xf*yf) - np.sum(xf) * np.sum(yf)) / (xf.size*np.sum(xf*xf) - np.sum(xf) ** 2)\n",
    "spqbias = (np.sum(yf) - spqm*np.sum(xf)) / xf.size\n",
    "\n",
    "plt.figure(2)\n",
    "times1 = np.linspace(300, 2700, 100)\n",
    "t1 = np.linspace(38, 112, 100)\n",
    "plt.scatter(times,np.mean(SPQ_RT,axis=0),color='green',label='SPQ data')\n",
    "plt.plot(np.flip(times1),spqm*RTsig(t1,spqetamin,spqetamax,spqdc,spqh)+spqbias,color='green',label='SPQ Model')\n",
    "plt.xlabel('Delay (ms)',size=14)\n",
    "plt.ylabel('Average RT (ms)',size=14)\n",
    "plt.legend()\n",
    "\n",
    "print(\"Central Point:\"+str(np.mean(dc)-20)+\"cm\",str(((120-np.mean(dc))/v)*1000)+\"ms\")\n",
    "print(\"Slope:\"+str(1/np.mean(h)))\n",
    "print(spqm,spqbias)\n"
   ]
  },
  {
   "cell_type": "code",
   "execution_count": 49,
   "metadata": {},
   "outputs": [
    {
     "data": {
      "image/png": "[encoded data removed]",
      "text/plain": [
       "<Figure size 432x432 with 2 Axes>"
      ]
     },
     "metadata": {
      "needs_background": "light"
     },
     "output_type": "display_data"
    }
   ],
   "source": [
    "fig, (ax1,ax2) = plt.subplots(2,1,sharex=True,figsize=(6,6))\n",
    "\n",
    "times1 = np.linspace(300, 2700, 100)\n",
    "t1 = np.linspace(38, 112, 100)\n",
    "\n",
    "ax1.scatter(times,np.mean(SCZ_RT,axis=0),color='red',label='SCZ data') #15\n",
    "ax1.plot(np.flip(times1),sczm*RTsig(t1,sczetamin,sczetamax,sczdc,sczh)+sczbias,color='red',label='SCZ model')\n",
    "ax1.set_ylabel('Average RT (ms)',size=14)\n",
    "ax1.tick_params(length=6, width=2,labelsize = 'large')\n",
    "ax1.legend(fontsize = 'large')\n",
    "\n",
    "ax2.scatter(times,np.mean(SPQ_RT,axis=0),color='green',label='H-SPQ data') \n",
    "ax2.plot(np.flip(times1),spqm*RTsig(t1,spqetamin,spqetamax,spqdc,spqh)+spqbias,color='green',label='H-SPQ Model')\n",
    "ax2.set_xlabel('Delay (ms)',size=14)\n",
    "ax2.set_ylabel('Average RT (ms)',size=14)\n",
    "ax2.tick_params(length=6, width=2,labelsize = 'large')\n",
    "ax2.legend(fontsize = 'large')\n",
    "\n",
    "plt.subplots_adjust(hspace=.0)\n",
    "plt.savefig('Results/groupfitting.png', bbox_inches='tight')\n"
   ]
  },
  {
   "cell_type": "code",
   "execution_count": 11,
   "metadata": {},
   "outputs": [
    {
     "name": "stdout",
     "output_type": "stream",
     "text": [
      "4.788482561128575\n"
     ]
    },
    {
     "data": {
      "image/png": "[encoded data removed]",
      "text/plain": [
       "<Figure size 432x288 with 1 Axes>"
      ]
     },
     "metadata": {
      "needs_background": "light"
     },
     "output_type": "display_data"
    },
    {
     "data": {
      "image/png": "[encoded data removed]",
      "text/plain": [
       "<Figure size 432x288 with 1 Axes>"
      ]
     },
     "metadata": {
      "needs_background": "light"
     },
     "output_type": "display_data"
    }
   ],
   "source": [
    "decrease = []\n",
    "for i in np.linspace(0,2.5,1000):\n",
    "    newM = prun(Ba,i)\n",
    "    decrease.append(100-np.sum(newM)/np.sum(Ba)*100)\n",
    "\n",
    "plt.figure(1)\n",
    "plt.plot(np.linspace(0,2.5,1000),decrease);\n",
    "plt.xlabel('Pruning threshold (\\u03C1)',size=14)\n",
    "plt.ylabel('Synaptic decrease (%)',size=14)\n",
    "plt.savefig('completepruninglevels.png', bbox_inches='tight')\n",
    "\n",
    "\n",
    "decrease = []\n",
    "for i in np.linspace(0,2.5,1000):\n",
    "    newM = prun(Wa,i*2.6)\n",
    "    decrease.append(100-np.sum(newM)/np.sum(Wa)*100)\n",
    "\n",
    "plt.figure(2)\n",
    "plt.plot(np.linspace(0,2.5*2.6,1000),decrease);\n",
    "plt.xlabel('Pruning threshold (\\u03C1)',size=14)\n",
    "plt.ylabel('Synaptic decrease (%)',size=14)\n",
    "plt.savefig('completepruninglevels2.png', bbox_inches='tight')\n",
    "\n",
    "newtry = prun(Ba,0.23709415)\n",
    "print(100-np.sum(newtry)/np.sum(Ba)*100)"
   ]
  },
  {
   "cell_type": "code",
   "execution_count": 46,
   "metadata": {},
   "outputs": [
    {
     "data": {
      "image/png": "[encoded data removed]",
      "text/plain": [
       "<Figure size 1080x360 with 8 Axes>"
      ]
     },
     "metadata": {
      "needs_background": "light"
     },
     "output_type": "display_data"
    }
   ],
   "source": [
    "## Plot feedback weights at different pruning levels\n",
    "\n",
    "prlvls = np.asarray([0.5,0.75,1.25,2])\n",
    "\n",
    "fig, axs = plt.subplots(2, 2, figsize=(15, 5));\n",
    "\n",
    "plotlist = [221,222,223,224]\n",
    "\n",
    "for i in range(len(prlvls)):\n",
    "    newM = prun(Ba,prlvls[i])\n",
    "\n",
    "    ax = plt.subplot(plotlist[i])\n",
    "    im = ax.imshow(newM.transpose())\n",
    "    ax.set_ylabel('cm')\n",
    "    ax.set_xlabel('cm')\n",
    "    ax.set_xticks(np.arange(-.5, 21, 2))\n",
    "    ax.set_yticks(np.arange(-.5, 3, 1))\n",
    "    ax.set_xticklabels(np.arange(0, 210, 20))\n",
    "    ax.set_yticklabels(np.arange(-10, 21, 10)[::-1])\n",
    "    divider = make_axes_locatable(ax)\n",
    "    cax = divider.append_axes(\"right\", \"5%\", pad=\"3%\")\n",
    "    cbar = plt.colorbar(im,cax=cax)\n",
    "    cbar.ax.get_yaxis().labelpad = 12\n",
    "    cbar.ax.set_ylabel('B\\u1D43', rotation=270,size=14)\n",
    "    ax.text(-0.1, 1.1, string.ascii_uppercase[i], transform=ax.transAxes, \n",
    "            size=20, weight='bold')\n",
    "\n",
    "plt.subplots_adjust(hspace=-.2)\n",
    "fig.savefig('Results/pruningeffects.png', bbox_inches='tight')\n"
   ]
  }
 ],
 "metadata": {
  "kernelspec": {
   "display_name": "Python 3",
   "language": "python",
   "name": "python3"
  },
  "language_info": {
   "codemirror_mode": {
    "name": "ipython",
    "version": 3
   },
   "file_extension": ".py",
   "mimetype": "text/x-python",
   "name": "python",
   "nbconvert_exporter": "python",
   "pygments_lexer": "ipython3",
   "version": "3.7.1"
  }
 },
 "nbformat": 4,
 "nbformat_minor": 2
}
